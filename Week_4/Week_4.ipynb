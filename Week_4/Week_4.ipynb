{
 "cells": [
  {
   "cell_type": "code",
   "execution_count": null,
   "metadata": {},
   "outputs": [],
   "source": [
    "import seaborn as sns\n",
    "import pandas as pd\n",
    "import matplotlib.pyplot as plt\n",
    "import numpy as np\n",
    "from sklearn.linear_model import LogisticRegression\n",
    "import scipy as sp"
   ]
  },
  {
   "cell_type": "markdown",
   "metadata": {},
   "source": [
    "# Titanic Dataset\n",
    "\n",
    "Below we import the titanic dataset as `df`. Drop all na values from the dataframe `df` after importing, what assumption are making when we drop these values? "
   ]
  },
  {
   "cell_type": "code",
   "execution_count": null,
   "metadata": {},
   "outputs": [],
   "source": [
    "sns.set(style='white', font_scale=1.5)\n",
    "df = sns.load_dataset('titanic')"
   ]
  },
  {
   "cell_type": "code",
   "execution_count": null,
   "metadata": {},
   "outputs": [],
   "source": [
    "## YOUR CODE GOES HERE\n"
   ]
  },
  {
   "cell_type": "markdown",
   "metadata": {},
   "source": [
    "Using the `head()` method print out the first `10` lines of the dataset. "
   ]
  },
  {
   "cell_type": "code",
   "execution_count": null,
   "metadata": {},
   "outputs": [],
   "source": [
    "## YOUR CODE GOES HERE\n"
   ]
  },
  {
   "cell_type": "markdown",
   "metadata": {},
   "source": [
    "In class we breifly discussed the `pclass` and sepculated what the ordering was for this class (i.e. does `1` represent 1st class or does `3`). We can plot out the distribution of `fare` in each class to validate any intution we might have.\n",
    "\n",
    "Use seaborn to make a boxplot of `fare` against each category of `pclass`. Additionally, remove the top and right-hand axes line."
   ]
  },
  {
   "cell_type": "code",
   "execution_count": null,
   "metadata": {},
   "outputs": [],
   "source": [
    "## YOUR CODE GOES HERE\n"
   ]
  },
  {
   "cell_type": "markdown",
   "metadata": {},
   "source": [
    "Given this distribtuion of fares which value of `pclass` do you think corresponds to 1st class?"
   ]
  },
  {
   "cell_type": "markdown",
   "metadata": {},
   "source": [
    "# Does Fare Price Relate to Whether Passangers Survived?\n",
    "\n",
    "We may want to explore where there is a relationship between the `fare` passangers paid and whether they survived. Create a boxplot to investigate this relationship."
   ]
  },
  {
   "cell_type": "code",
   "execution_count": null,
   "metadata": {},
   "outputs": [],
   "source": [
    "## YOUR CODE GOES HERE\n"
   ]
  },
  {
   "cell_type": "markdown",
   "metadata": {},
   "source": [
    "What do you notice about these distributions? Do they look skewed? Plot out a histogram of fare to investigate the skew."
   ]
  },
  {
   "cell_type": "code",
   "execution_count": null,
   "metadata": {},
   "outputs": [],
   "source": [
    "## YOUR CODE GOES HERE\n"
   ]
  },
  {
   "cell_type": "code",
   "execution_count": null,
   "metadata": {},
   "outputs": [],
   "source": [
    "## YOUR CODE GOES HERE\n"
   ]
  },
  {
   "cell_type": "markdown",
   "metadata": {},
   "source": [
    "In order to perform many statistical tests in data science we want data that is not skewed, one way of transforming data skewed data to be less skewed is to log transform it - as we did in the assingment. \n",
    "\n",
    "Create the same boxplot you did above categorized by whether they survived, but log transform the fare. (You may need to add a small value like `0.1` to avoid numerical issues with taking the `log` of `0` or a negative number. "
   ]
  },
  {
   "cell_type": "code",
   "execution_count": null,
   "metadata": {},
   "outputs": [],
   "source": [
    "## YOUR CODE GOES HERE\n"
   ]
  },
  {
   "cell_type": "markdown",
   "metadata": {},
   "source": [
    "After log transforming the data we can see that the data looks less skewed, we can test to see if there is a significant difference in fare between people who survived and those that did not. \n",
    "\n",
    "To test this difference we will perform a t-test, this is a standard statistical test that it used to see if a quantative measurement is different between groups, [here](http://docs.statwing.com/examples-and-definitions/t-test/) is a webpage that gives some description of the test. \n",
    "\n",
    "Using the `scipy` `ttest_ind` function, in the `stats` module, test whether there is a significant difference. Remember to use log transformed `fare` values. "
   ]
  },
  {
   "cell_type": "code",
   "execution_count": null,
   "metadata": {},
   "outputs": [],
   "source": [
    "## YOUR CODE GOES HERE\n"
   ]
  },
  {
   "cell_type": "markdown",
   "metadata": {},
   "source": [
    "The p value here is very low which indicates that observed difference in fares would have been very unlikely had they been from the same distribution - i.e. this shows there is a significant difference in fare for those that survived vs those that did not."
   ]
  },
  {
   "cell_type": "markdown",
   "metadata": {},
   "source": [
    "# Relationship of Age and Fare on Survival\n",
    "\n",
    "Another relationship we may be interested in investigating is the relationship between `age` and `survival`. First plot out a boxplot of `age` of passengers categorized by whehter they survived - similar to above."
   ]
  },
  {
   "cell_type": "code",
   "execution_count": null,
   "metadata": {},
   "outputs": [],
   "source": [
    "## YOUR CODE GOES HERE\n"
   ]
  },
  {
   "cell_type": "markdown",
   "metadata": {},
   "source": [
    "Does it it look like there is a significant difference between the two groups with reference to age, test this using the same t-test as above. \n",
    "\n",
    "*Note: you do NOT need to log transform age as it is not skewed in this dataset*"
   ]
  },
  {
   "cell_type": "code",
   "execution_count": null,
   "metadata": {},
   "outputs": [],
   "source": [
    "## YOUR CODE GOES HERE\n"
   ]
  },
  {
   "cell_type": "markdown",
   "metadata": {},
   "source": [
    "Is there a significant association? - a pvalue less than 0.05 is generally considered a significant.\n",
    "\n",
    "Although we may see an association between age and whether they survived, this could be driven by the fact that older people tend to have more money and therefore buy more expensive tickets (and we know that fare is also associated with survival). Therefore we want to take into account the fact that older people tend to have more expensive fares when associating `age` with `fare`. We will do this by using a logistic model, first create a scatter plot of `age` against `fare` with each point beign colored by whether they `survived`."
   ]
  },
  {
   "cell_type": "code",
   "execution_count": null,
   "metadata": {},
   "outputs": [],
   "source": [
    "## YOUR CODE GOES HERE\n"
   ]
  },
  {
   "cell_type": "markdown",
   "metadata": {},
   "source": [
    "Now we want to test whether fare and age are associated with survival when we partial out the effect of each. To do this we will try to predict `survival` from `age` and `fare` using a logistic regression. (We are using logistic regression as the outcome variable, `survival`, is binary i.e. 1 or 0). To do this use the code below to set `X` as the predictors and `y` as the outcome, provided you do this correctly you should see a table produced that shows the relationship of `fare` and `age` with `survival`."
   ]
  },
  {
   "cell_type": "code",
   "execution_count": null,
   "metadata": {},
   "outputs": [],
   "source": [
    "raise NotImplementedError()\n",
    "X = \n",
    "y = \n",
    "model = smf.Logit(y, X)\n",
    "model.fit().summary()"
   ]
  },
  {
   "cell_type": "markdown",
   "metadata": {},
   "source": [
    "Given these results it looks like `age` is no longer associated (p>0.05) with `survival`, while `fare` is still significatly associated (p<0.05). This suggests that the assocation between `age` and `survival` was primarily driven by the effect of `fare`."
   ]
  },
  {
   "cell_type": "markdown",
   "metadata": {},
   "source": [
    "# Plotting Aesthetics\n",
    "\n",
    "One of the great things about visualizing data is that it is often a more apealing way of view data and so the aesthetics of a plot can be something to consider. A benefit of `seaborn` is that the plots it creates are usually very nice looking, but there are different settings one can use for particular tastes or contexts (e.g. presenting in a talk vs displaying on a webpage). [This page](https://seaborn.pydata.org/tutorial/aesthetics.html) shows some of the different aesthetic options that be made within seaborn. \n",
    "\n",
    "Explore some of these choices with the plots above to see what you like best."
   ]
  }
 ],
 "metadata": {
  "kernelspec": {
   "display_name": "Python 3",
   "language": "python",
   "name": "python3"
  },
  "language_info": {
   "codemirror_mode": {
    "name": "ipython",
    "version": 3
   },
   "file_extension": ".py",
   "mimetype": "text/x-python",
   "name": "python",
   "nbconvert_exporter": "python",
   "pygments_lexer": "ipython3",
   "version": "3.7.1"
  }
 },
 "nbformat": 4,
 "nbformat_minor": 2
}
